{
 "cells": [
  {
   "cell_type": "code",
   "execution_count": 1,
   "id": "5df5972d-bc6d-4f3d-b9a8-b19ca6897145",
   "metadata": {},
   "outputs": [],
   "source": [
    "import sys\n",
    "sys.path.append('../')"
   ]
  },
  {
   "cell_type": "code",
   "execution_count": 2,
   "id": "61737237-f884-4c27-94f8-0a16dd79d3b6",
   "metadata": {},
   "outputs": [],
   "source": [
    "### Libraries\n",
    "from pipelines.experimental_modeling_pipeline import DiabetesPreprocessing as DP\n",
    "from pipelines.experimental_modeling_pipeline import AsthmaPreprocessing as AP\n",
    "from pipelines.experimental_modeling_pipeline import ClusteringAnalysis as QA\n",
    "from pipelines.experimental_modeling_pipeline import Experimental_modeling_pipeline as EMP\n",
    "from pipelines.experimental_modeling_pipeline import CopdPreprocessing as COPDP\n",
    "from pipelines.experimental_modeling_pipeline import ObesityPreprocessing as OP\n",
    "import pandas as pd\n",
    "import numpy as np\n",
    "import datetime\n",
    "import matplotlib.pyplot as plt\n",
    "\n",
    "dp = DP(\"C:/Users/keimp/\")\n",
    "ap = AP(\"C:/Users/keimp/\")\n",
    "copdp = COPDP(\"C:/Users/keimp/\")\n",
    "op = OP(\"C:/Users/keimp/\")\n",
    "emp = EMP()"
   ]
  },
  {
   "cell_type": "code",
   "execution_count": 375,
   "id": "429d0f09-2ce5-433d-b26f-5de8edf89895",
   "metadata": {
    "scrolled": true
   },
   "outputs": [
    {
     "name": "stderr",
     "output_type": "stream",
     "text": [
      "C:\\Users\\keimp\\NHS\\Code\\experimental_modeling\\obesity\\..\\pipelines\\experimental_modeling_pipeline.py:1397: FutureWarning: The pandas.np module is deprecated and will be removed from pandas in a future version. Import numpy directly instead\n",
      "  return pd.np.nan\n",
      "C:\\Users\\keimp\\NHS\\Code\\experimental_modeling\\obesity\\..\\pipelines\\experimental_modeling_pipeline.py:1404: FutureWarning: The pandas.np module is deprecated and will be removed from pandas in a future version. Import numpy directly instead\n",
      "  return pd.np.nan\n"
     ]
    },
    {
     "name": "stdout",
     "output_type": "stream",
     "text": [
      "1\n"
     ]
    },
    {
     "name": "stderr",
     "output_type": "stream",
     "text": [
      "C:\\Users\\keimp\\AppData\\Roaming\\Python\\Python39\\site-packages\\IPython\\core\\interactiveshell.py:3318: DtypeWarning: Columns (12,24,37,42,75) have mixed types.Specify dtype option on import or set low_memory=False.\n",
      "  if await self.run_code(code, result, async_=asy):\n"
     ]
    },
    {
     "name": "stdout",
     "output_type": "stream",
     "text": [
      "2\n"
     ]
    },
    {
     "name": "stderr",
     "output_type": "stream",
     "text": [
      "C:\\Users\\keimp\\AppData\\Roaming\\Python\\Python39\\site-packages\\IPython\\core\\interactiveshell.py:3318: DtypeWarning: Columns (13,14,15,16,17,18,19,20,22,23,24,26,27,28,30,31,32,33,34,35,36,38,39,40,42,43,44,46,47,48,50,51,52,54,55,56,57,58,59,60,77,78) have mixed types.Specify dtype option on import or set low_memory=False.\n",
      "  if await self.run_code(code, result, async_=asy):\n"
     ]
    },
    {
     "name": "stdout",
     "output_type": "stream",
     "text": [
      "3\n"
     ]
    },
    {
     "name": "stderr",
     "output_type": "stream",
     "text": [
      "C:\\Users\\keimp\\AppData\\Roaming\\Python\\Python39\\site-packages\\IPython\\core\\interactiveshell.py:3318: DtypeWarning: Columns (4) have mixed types.Specify dtype option on import or set low_memory=False.\n",
      "  if await self.run_code(code, result, async_=asy):\n"
     ]
    },
    {
     "name": "stdout",
     "output_type": "stream",
     "text": [
      "4\n",
      "5\n",
      "6\n",
      "7\n",
      "8\n"
     ]
    }
   ],
   "source": [
    "df = op.pipeline()"
   ]
  },
  {
   "cell_type": "markdown",
   "id": "abe5264b-06a7-4c6e-a9f5-ff7ecac7797d",
   "metadata": {},
   "source": [
    "## Difference first and third"
   ]
  },
  {
   "cell_type": "code",
   "execution_count": 94,
   "id": "03b4f40a-18d1-41cc-8045-a0493ff5c85f",
   "metadata": {},
   "outputs": [],
   "source": [
    "def difference(l):\n",
    "    if str(l[0]) != \"nan\" and str(l[1]) != \"nan\":\n",
    "        return l[1] - l[0]\n",
    "    return pd.np.nan"
   ]
  },
  {
   "cell_type": "code",
   "execution_count": 95,
   "id": "85798ef7-8d69-4d2d-ab23-6397a4a1d768",
   "metadata": {},
   "outputs": [
    {
     "name": "stderr",
     "output_type": "stream",
     "text": [
      "C:\\Users\\keimp\\AppData\\Local\\Temp\\ipykernel_14148\\1914222047.py:4: FutureWarning: The pandas.np module is deprecated and will be removed from pandas in a future version. Import numpy directly instead\n",
      "  return pd.np.nan\n"
     ]
    }
   ],
   "source": [
    "df[\"bmi_dif_0_2\"] = df[['Body mass index (BMI) | Instance 0','Body mass index (BMI) | Instance 2']].apply(difference, axis=1)"
   ]
  },
  {
   "cell_type": "code",
   "execution_count": 96,
   "id": "7f29d5ae-81c9-46db-8955-900c23ef84e7",
   "metadata": {},
   "outputs": [
    {
     "data": {
      "text/plain": [
       "-0.013263974460034682"
      ]
     },
     "execution_count": 96,
     "metadata": {},
     "output_type": "execute_result"
    }
   ],
   "source": [
    "df[\"bmi_dif_0_2\"].mean()"
   ]
  },
  {
   "cell_type": "code",
   "execution_count": 97,
   "id": "29e0d77f-db0a-4f5a-b59c-886606412655",
   "metadata": {},
   "outputs": [
    {
     "data": {
      "text/plain": [
       "2.1316281494743987"
      ]
     },
     "execution_count": 97,
     "metadata": {},
     "output_type": "execute_result"
    }
   ],
   "source": [
    "df[\"bmi_dif_0_2\"].std()"
   ]
  },
  {
   "cell_type": "code",
   "execution_count": 98,
   "id": "e93be33a-7215-43f8-9a56-5a7b6090cf34",
   "metadata": {},
   "outputs": [],
   "source": [
    "s = df[\"bmi_dif_0_2\"].std() "
   ]
  },
  {
   "cell_type": "code",
   "execution_count": 99,
   "id": "aa2ab520-c96f-4d59-a055-ecc7e6dd4e16",
   "metadata": {},
   "outputs": [],
   "source": [
    "def sd_lab(i):\n",
    "    if str(i) == \"nan\":\n",
    "         return pd.np.nan\n",
    "    if i> s:\n",
    "        return 1\n",
    "    return 0"
   ]
  },
  {
   "cell_type": "code",
   "execution_count": 100,
   "id": "ac1b0eba-e131-4f88-9d29-c7bf1f97faab",
   "metadata": {},
   "outputs": [
    {
     "name": "stderr",
     "output_type": "stream",
     "text": [
      "C:\\Users\\keimp\\AppData\\Local\\Temp\\ipykernel_14148\\640616617.py:3: FutureWarning: The pandas.np module is deprecated and will be removed from pandas in a future version. Import numpy directly instead\n",
      "  return pd.np.nan\n"
     ]
    }
   ],
   "source": [
    "df[\"std_lab\"] = df[\"bmi_dif_0_2\"].apply(sd_lab)"
   ]
  },
  {
   "cell_type": "code",
   "execution_count": 101,
   "id": "e89c2810-c4cf-4b5c-b8eb-edda28ed615a",
   "metadata": {},
   "outputs": [
    {
     "data": {
      "text/plain": [
       "0.0    55917\n",
       "1.0     7513\n",
       "Name: std_lab, dtype: int64"
      ]
     },
     "execution_count": 101,
     "metadata": {},
     "output_type": "execute_result"
    }
   ],
   "source": [
    "df[\"std_lab\"].value_counts()"
   ]
  },
  {
   "cell_type": "code",
   "execution_count": 392,
   "id": "e0360ae0-2a5a-4a59-bb06-68b7160ef64a",
   "metadata": {},
   "outputs": [],
   "source": [
    "#data prep\n",
    "one_hot = pd.get_dummies(df['Usual walking pace | Instance 0'])\n",
    "df = pd.concat([df, one_hot], axis=1)"
   ]
  },
  {
   "cell_type": "markdown",
   "id": "ccbc93e6-3176-4262-821e-f038874f4c4a",
   "metadata": {},
   "source": [
    "### Modeling"
   ]
  },
  {
   "cell_type": "code",
   "execution_count": 103,
   "id": "c59997be-e8a5-4925-af87-03477099dac7",
   "metadata": {},
   "outputs": [],
   "source": [
    "datacolumns_selected =[\n",
    "'Year of birth',\n",
    "'Waist circumference | Instance 0',\n",
    "'Weight | Instance 0',\n",
    "'Body mass index (BMI) | Instance 0',\n",
    "'Hip circumference | Instance 0',\n",
    "'Standing height | Instance 0',\n",
    "'Whole body fat mass | Instance 0',\n",
    "'Body fat percentage | Instance 0',\n",
    "#'Time spent using computer | Instance 0',\n",
    "#'Time spent watching television (TV) | Instance 0',\n",
    "'Summed MET minutes per week for all activity | Instance 0',\n",
    "'Summed minutes activity | Instance 0',\n",
    "'Diastolic blood pressure',\n",
    "'Systolic blood pressure',\n",
    "'C-reactive protein | Instance 0',\n",
    "'Cholesterol_lowering_medication',\n",
    "'Blood_pressure',\n",
    "'Insulin',\n",
    "'Glycated haemoglobin (HbA1c) | Instance 0',\n",
    "'trigl_hdl_ratio_0',\n",
    "'apob_apoa_ratio_0',\n",
    "'Brisk pace',\n",
    "'Slow pace',\n",
    "'Steady average pace',\n",
    "\"Sex\"\n",
    "]"
   ]
  },
  {
   "cell_type": "code",
   "execution_count": 104,
   "id": "da4c91a2-3d54-4361-9abc-9e4dfc0bd769",
   "metadata": {},
   "outputs": [],
   "source": [
    "datacolumns_selected_lab = datacolumns_selected+[\"std_lab\"]"
   ]
  },
  {
   "cell_type": "code",
   "execution_count": 105,
   "id": "21fc4475-ac90-4eea-b138-6f598bfe0cd7",
   "metadata": {},
   "outputs": [],
   "source": [
    "cohort = pd.concat([df[(df[\"std_lab\"] == 1)],\n",
    "                    df[(df[\"std_lab\"] == 0)].sample(\n",
    "                    df[(df[\"std_lab\"] == 1)].shape[0]\n",
    "                    )])\n",
    "cohort = cohort[datacolumns_selected_lab]"
   ]
  },
  {
   "cell_type": "code",
   "execution_count": 106,
   "id": "5d7a7e19-d672-4cd1-b838-3c76c499a5bf",
   "metadata": {},
   "outputs": [
    {
     "name": "stdout",
     "output_type": "stream",
     "text": [
      "Number of missing values: \n",
      " Year of birth                                                   0\n",
      "Waist circumference | Instance 0                                0\n",
      "Weight | Instance 0                                             0\n",
      "Body mass index (BMI) | Instance 0                              0\n",
      "Hip circumference | Instance 0                                  0\n",
      "Standing height | Instance 0                                    0\n",
      "Whole body fat mass | Instance 0                              206\n",
      "Body fat percentage | Instance 0                              196\n",
      "Summed MET minutes per week for all activity | Instance 0    2390\n",
      "Summed minutes activity | Instance 0                         2390\n",
      "Diastolic blood pressure                                     1003\n",
      "Systolic blood pressure                                      1003\n",
      "C-reactive protein | Instance 0                              1006\n",
      "Cholesterol_lowering_medication                                 0\n",
      "Blood_pressure                                                  0\n",
      "Insulin                                                         0\n",
      "Glycated haemoglobin (HbA1c) | Instance 0                    1111\n",
      "trigl_hdl_ratio_0                                            2183\n",
      "apob_apoa_ratio_0                                            2307\n",
      "Brisk pace                                                      0\n",
      "Slow pace                                                       0\n",
      "Steady average pace                                             0\n",
      "Sex                                                             0\n",
      "std_lab                                                         0\n",
      "dtype: int64\n",
      "Dataframe dimensions:  (9463, 24)\n"
     ]
    },
    {
     "data": {
      "image/png": "[encoded data removed]",
      "text/plain": [
       "<Figure size 640x480 with 1 Axes>"
      ]
     },
     "metadata": {},
     "output_type": "display_data"
    },
    {
     "name": "stdout",
     "output_type": "stream",
     "text": [
      "F1:  0.6201337036672875 0.5657264042495324 0.6273948467426241\n",
      "auc:  [0.5028003804290394, 0.666580382274433, 0.6665521789898472, 0.6827742247027709]\n",
      "accuracy:  [0.5028003804290394, 0.6225301516994289, 0.6224250018706953, 0.6380651314679988]\n"
     ]
    }
   ],
   "source": [
    "emp.pipeline(cohort, \"std_lab\", datacolumns_selected,0.25, splits=5)"
   ]
  },
  {
   "cell_type": "markdown",
   "id": "1ab2ce3a-e5d7-4f8d-9f4b-10e447eb2863",
   "metadata": {},
   "source": [
    "## On weight  "
   ]
  },
  {
   "cell_type": "code",
   "execution_count": 145,
   "id": "136f2dd2-c1b5-41db-8358-ed2fd15eb1f7",
   "metadata": {},
   "outputs": [
    {
     "name": "stderr",
     "output_type": "stream",
     "text": [
      "C:\\Users\\keimp\\AppData\\Local\\Temp\\ipykernel_14148\\1914222047.py:4: FutureWarning: The pandas.np module is deprecated and will be removed from pandas in a future version. Import numpy directly instead\n",
      "  return pd.np.nan\n"
     ]
    }
   ],
   "source": [
    "df[\"weight_dif_0_2\"] = df[['Weight | Instance 0','Weight | Instance 2']].apply(difference, axis=1)"
   ]
  },
  {
   "cell_type": "code",
   "execution_count": 146,
   "id": "a0b47fa6-0c8d-4ba7-9a57-6a8fe1769e42",
   "metadata": {},
   "outputs": [
    {
     "data": {
      "text/plain": [
       "-0.689764983854454"
      ]
     },
     "execution_count": 146,
     "metadata": {},
     "output_type": "execute_result"
    }
   ],
   "source": [
    "df[\"weight_dif_0_2\"].mean()"
   ]
  },
  {
   "cell_type": "code",
   "execution_count": 147,
   "id": "690311c0-1bb2-488d-b2ac-29d851aa296a",
   "metadata": {},
   "outputs": [
    {
     "data": {
      "text/plain": [
       "6.106276778857821"
      ]
     },
     "execution_count": 147,
     "metadata": {},
     "output_type": "execute_result"
    }
   ],
   "source": [
    "df[\"weight_dif_0_2\"].std()"
   ]
  },
  {
   "cell_type": "code",
   "execution_count": 154,
   "id": "36abbdab-70f3-4c40-99d3-3507b1c22266",
   "metadata": {},
   "outputs": [],
   "source": [
    "s = df[\"weight_dif_0_2\"].std() *3"
   ]
  },
  {
   "cell_type": "code",
   "execution_count": 155,
   "id": "3e3c411c-e68d-436f-8933-ab9522975aee",
   "metadata": {},
   "outputs": [
    {
     "name": "stderr",
     "output_type": "stream",
     "text": [
      "C:\\Users\\keimp\\AppData\\Local\\Temp\\ipykernel_14148\\640616617.py:3: FutureWarning: The pandas.np module is deprecated and will be removed from pandas in a future version. Import numpy directly instead\n",
      "  return pd.np.nan\n"
     ]
    }
   ],
   "source": [
    "df[\"weight_std_lab\"] = df[\"weight_dif_0_2\"].apply(sd_lab)"
   ]
  },
  {
   "cell_type": "code",
   "execution_count": 156,
   "id": "258380e1-1683-406c-a9a6-7fa386fedbb8",
   "metadata": {},
   "outputs": [
    {
     "data": {
      "text/plain": [
       "0.0    63093\n",
       "1.0      392\n",
       "Name: weight_std_lab, dtype: int64"
      ]
     },
     "execution_count": 156,
     "metadata": {},
     "output_type": "execute_result"
    }
   ],
   "source": [
    "df[\"weight_std_lab\"].value_counts()"
   ]
  },
  {
   "cell_type": "code",
   "execution_count": 157,
   "id": "1a62fbc1-14b5-46fb-82b7-6ed6e4170c8b",
   "metadata": {},
   "outputs": [],
   "source": [
    "datacolumns_selected_lab = datacolumns_selected+[\"weight_std_lab\"]"
   ]
  },
  {
   "cell_type": "code",
   "execution_count": 158,
   "id": "bcbb5247-9f8b-40c6-bad6-1c2abd9ddf7c",
   "metadata": {},
   "outputs": [],
   "source": [
    "cohort = pd.concat([df[(df[\"weight_std_lab\"] == 1)],\n",
    "                    df[(df[\"weight_std_lab\"] == 0)].sample(\n",
    "                    df[(df[\"weight_std_lab\"] == 1)].shape[0]\n",
    "                    )])\n",
    "cohort = cohort[datacolumns_selected_lab]"
   ]
  },
  {
   "cell_type": "code",
   "execution_count": 159,
   "id": "02c8aee6-fa78-43ae-901e-116ac05d6688",
   "metadata": {},
   "outputs": [
    {
     "name": "stdout",
     "output_type": "stream",
     "text": [
      "Number of missing values: \n",
      " Year of birth                                                  0\n",
      "Waist circumference | Instance 0                               0\n",
      "Weight | Instance 0                                            0\n",
      "Body mass index (BMI) | Instance 0                             0\n",
      "Hip circumference | Instance 0                                 0\n",
      "Standing height | Instance 0                                   0\n",
      "Whole body fat mass | Instance 0                              13\n",
      "Body fat percentage | Instance 0                              12\n",
      "Summed MET minutes per week for all activity | Instance 0    106\n",
      "Summed minutes activity | Instance 0                         106\n",
      "Diastolic blood pressure                                      50\n",
      "Systolic blood pressure                                       50\n",
      "C-reactive protein | Instance 0                               66\n",
      "Cholesterol_lowering_medication                                0\n",
      "Blood_pressure                                                 0\n",
      "Insulin                                                        0\n",
      "Glycated haemoglobin (HbA1c) | Instance 0                     62\n",
      "trigl_hdl_ratio_0                                            126\n",
      "apob_apoa_ratio_0                                            135\n",
      "Brisk pace                                                     0\n",
      "Slow pace                                                      0\n",
      "Steady average pace                                            0\n",
      "Sex                                                            0\n",
      "weight_std_lab                                                 0\n",
      "dtype: int64\n",
      "Dataframe dimensions:  (498, 24)\n"
     ]
    },
    {
     "data": {
      "image/png": "[encoded data removed]",
      "text/plain": [
       "<Figure size 640x480 with 1 Axes>"
      ]
     },
     "metadata": {},
     "output_type": "display_data"
    },
    {
     "name": "stdout",
     "output_type": "stream",
     "text": [
      "F1:  0.6774085194822985 0.5827383359537693 0.7006001009013204\n",
      "auc:  [0.5220883534136547, 0.7705520321876704, 0.7582685488270594, 0.8042681055646481]\n",
      "accuracy:  [0.5220883534136547, 0.7047676767676768, 0.6707272727272727, 0.7248686868686869]\n"
     ]
    }
   ],
   "source": [
    "emp.pipeline(cohort, \"weight_std_lab\", datacolumns_selected,0.25, splits=5)"
   ]
  },
  {
   "cell_type": "markdown",
   "id": "31feedd9-6b5b-4044-9d42-c6a727a4a506",
   "metadata": {},
   "source": [
    "#### Percentages"
   ]
  },
  {
   "cell_type": "code",
   "execution_count": 116,
   "id": "0cde9138-3af0-4a23-a2d1-f0e5eeebe690",
   "metadata": {},
   "outputs": [],
   "source": [
    "def perc_weight(l):\n",
    "    if str(l[0]) != \"nan\" and str(l[1]) != \"nan\":\n",
    "        return (l[1] - l[0]) / l[0] *100\n",
    "    return pd.np.nan"
   ]
  },
  {
   "cell_type": "code",
   "execution_count": 117,
   "id": "906fb613-37f0-41be-8e4a-cc4a54d2c068",
   "metadata": {},
   "outputs": [
    {
     "name": "stderr",
     "output_type": "stream",
     "text": [
      "C:\\Users\\keimp\\AppData\\Local\\Temp\\ipykernel_14148\\4213814191.py:4: FutureWarning: The pandas.np module is deprecated and will be removed from pandas in a future version. Import numpy directly instead\n",
      "  return pd.np.nan\n"
     ]
    }
   ],
   "source": [
    "df[\"weight_difperc_0_2\"] = df[['Weight | Instance 0','Weight | Instance 2']].apply(perc_weight, axis=1)"
   ]
  },
  {
   "cell_type": "code",
   "execution_count": 118,
   "id": "17e236dd-081c-44ee-a8bd-1f2280e3a969",
   "metadata": {},
   "outputs": [
    {
     "data": {
      "text/plain": [
       "-0.7362862195277111"
      ]
     },
     "execution_count": 118,
     "metadata": {},
     "output_type": "execute_result"
    }
   ],
   "source": [
    "df[\"weight_difperc_0_2\"].mean()"
   ]
  },
  {
   "cell_type": "code",
   "execution_count": 298,
   "id": "a6fc3f37-7a88-4d7f-a761-9d9d34035420",
   "metadata": {},
   "outputs": [
    {
     "data": {
      "text/plain": [
       "7.588000462380384"
      ]
     },
     "execution_count": 298,
     "metadata": {},
     "output_type": "execute_result"
    }
   ],
   "source": [
    "df[\"weight_difperc_0_2\"].std()"
   ]
  },
  {
   "cell_type": "code",
   "execution_count": 299,
   "id": "46901ae6-7372-4e1a-aca9-855e6d857e3a",
   "metadata": {},
   "outputs": [],
   "source": [
    "s =7.58 "
   ]
  },
  {
   "cell_type": "code",
   "execution_count": 300,
   "id": "f07a2a05-c89d-46fd-8de2-edbf6676ae65",
   "metadata": {},
   "outputs": [
    {
     "name": "stderr",
     "output_type": "stream",
     "text": [
      "C:\\Users\\keimp\\AppData\\Local\\Temp\\ipykernel_14148\\640616617.py:3: FutureWarning: The pandas.np module is deprecated and will be removed from pandas in a future version. Import numpy directly instead\n",
      "  return pd.np.nan\n"
     ]
    }
   ],
   "source": [
    "df[\"weight_prec_std_lab\"] = df[\"weight_difperc_0_2\"].apply(sd_lab)"
   ]
  },
  {
   "cell_type": "code",
   "execution_count": 214,
   "id": "92fa683e-10f0-44b5-942e-bf06e7b66f29",
   "metadata": {},
   "outputs": [
    {
     "data": {
      "text/plain": [
       "0.0    56385\n",
       "1.0     7100\n",
       "Name: weight_prec_std_lab, dtype: int64"
      ]
     },
     "execution_count": 214,
     "metadata": {},
     "output_type": "execute_result"
    }
   ],
   "source": [
    "df[\"weight_prec_std_lab\"].value_counts()"
   ]
  },
  {
   "cell_type": "code",
   "execution_count": 178,
   "id": "2b96ae5f-c25d-45bd-b979-97c7bf65cc96",
   "metadata": {},
   "outputs": [],
   "source": [
    "datacolumns_selected_lab = datacolumns_selected+[\"weight_prec_std_lab\"]"
   ]
  },
  {
   "cell_type": "code",
   "execution_count": 143,
   "id": "719322d9-8824-46a6-84cb-3e8fbd8afbde",
   "metadata": {},
   "outputs": [],
   "source": [
    "cohort = pd.concat([df[(df[\"weight_prec_std_lab\"] == 1)],\n",
    "                    df[(df[\"weight_prec_std_lab\"] == 0)].sample(\n",
    "                    df[(df[\"weight_prec_std_lab\"] == 1)].shape[0]\n",
    "                    )])\n",
    "cohort = cohort[datacolumns_selected_lab]"
   ]
  },
  {
   "cell_type": "code",
   "execution_count": 144,
   "id": "a455e8cd-86b2-4964-ae34-830dd41801dc",
   "metadata": {},
   "outputs": [
    {
     "name": "stdout",
     "output_type": "stream",
     "text": [
      "Number of missing values: \n",
      " Year of birth                                                  0\n",
      "Waist circumference | Instance 0                               0\n",
      "Weight | Instance 0                                            0\n",
      "Body mass index (BMI) | Instance 0                             0\n",
      "Hip circumference | Instance 0                                 0\n",
      "Standing height | Instance 0                                   0\n",
      "Whole body fat mass | Instance 0                              10\n",
      "Body fat percentage | Instance 0                               9\n",
      "Summed MET minutes per week for all activity | Instance 0    147\n",
      "Summed minutes activity | Instance 0                         147\n",
      "Diastolic blood pressure                                      71\n",
      "Systolic blood pressure                                       71\n",
      "C-reactive protein | Instance 0                               73\n",
      "Cholesterol_lowering_medication                                0\n",
      "Blood_pressure                                                 0\n",
      "Insulin                                                        0\n",
      "Glycated haemoglobin (HbA1c) | Instance 0                     68\n",
      "trigl_hdl_ratio_0                                            150\n",
      "apob_apoa_ratio_0                                            158\n",
      "Brisk pace                                                     0\n",
      "Slow pace                                                      0\n",
      "Steady average pace                                            0\n",
      "Sex                                                            0\n",
      "weight_prec_std_lab                                            0\n",
      "dtype: int64\n",
      "Dataframe dimensions:  (551, 24)\n"
     ]
    },
    {
     "data": {
      "image/png": "[encoded data removed]",
      "text/plain": [
       "<Figure size 640x480 with 1 Axes>"
      ]
     },
     "metadata": {},
     "output_type": "display_data"
    },
    {
     "name": "stdout",
     "output_type": "stream",
     "text": [
      "F1:  0.6497244613034087 0.67593696689004 0.6409764700542963\n",
      "auc:  [0.515426497277677, 0.7125181708639173, 0.7163445169527592, 0.7392760815385774]\n",
      "accuracy:  [0.515426497277677, 0.6479115479115479, 0.6697133497133497, 0.6552334152334153]\n"
     ]
    }
   ],
   "source": [
    "emp.pipeline(cohort, \"weight_prec_std_lab\", datacolumns_selected,0.25, splits=5)"
   ]
  },
  {
   "cell_type": "markdown",
   "id": "a4cd0ade-7e43-4760-b7c3-50fd88a16429",
   "metadata": {},
   "source": [
    "## PCA"
   ]
  },
  {
   "cell_type": "code",
   "execution_count": 190,
   "id": "3df9d35a-a14b-40cc-9d36-00187a56cba6",
   "metadata": {},
   "outputs": [],
   "source": [
    "from sklearn.decomposition import PCA\n",
    "from sklearn.model_selection import train_test_split\n",
    "from sklearn.preprocessing import StandardScaler\n",
    "from sklearn.linear_model import LogisticRegression \n",
    "from sklearn.metrics import confusion_matrix"
   ]
  },
  {
   "cell_type": "markdown",
   "id": "601ff0a6-2644-4dd0-a444-c3b22b016a45",
   "metadata": {},
   "source": [
    "#### Weight change"
   ]
  },
  {
   "cell_type": "code",
   "execution_count": 273,
   "id": "200852c6-aef9-4949-8700-ccefc931415c",
   "metadata": {},
   "outputs": [],
   "source": [
    "t = df[datacolumns_selected_lab].dropna()"
   ]
  },
  {
   "cell_type": "code",
   "execution_count": 274,
   "id": "7ca6f063-adbb-49b7-b90a-30ad51659c3a",
   "metadata": {},
   "outputs": [],
   "source": [
    "pca = PCA(n_components=len(datacolumns_selected))"
   ]
  },
  {
   "cell_type": "code",
   "execution_count": 275,
   "id": "e57973dc-d21a-44ca-80df-91dc2df43736",
   "metadata": {},
   "outputs": [
    {
     "data": {
      "text/html": [
       "<style>#sk-container-id-12 {color: black;}#sk-container-id-12 pre{padding: 0;}#sk-container-id-12 div.sk-toggleable {background-color: white;}#sk-container-id-12 label.sk-toggleable__label {cursor: pointer;display: block;width: 100%;margin-bottom: 0;padding: 0.3em;box-sizing: border-box;text-align: center;}#sk-container-id-12 label.sk-toggleable__label-arrow:before {content: \"▸\";float: left;margin-right: 0.25em;color: #696969;}#sk-container-id-12 label.sk-toggleable__label-arrow:hover:before {color: black;}#sk-container-id-12 div.sk-estimator:hover label.sk-toggleable__label-arrow:before {color: black;}#sk-container-id-12 div.sk-toggleable__content {max-height: 0;max-width: 0;overflow: hidden;text-align: left;background-color: #f0f8ff;}#sk-container-id-12 div.sk-toggleable__content pre {margin: 0.2em;color: black;border-radius: 0.25em;background-color: #f0f8ff;}#sk-container-id-12 input.sk-toggleable__control:checked~div.sk-toggleable__content {max-height: 200px;max-width: 100%;overflow: auto;}#sk-container-id-12 input.sk-toggleable__control:checked~label.sk-toggleable__label-arrow:before {content: \"▾\";}#sk-container-id-12 div.sk-estimator input.sk-toggleable__control:checked~label.sk-toggleable__label {background-color: #d4ebff;}#sk-container-id-12 div.sk-label input.sk-toggleable__control:checked~label.sk-toggleable__label {background-color: #d4ebff;}#sk-container-id-12 input.sk-hidden--visually {border: 0;clip: rect(1px 1px 1px 1px);clip: rect(1px, 1px, 1px, 1px);height: 1px;margin: -1px;overflow: hidden;padding: 0;position: absolute;width: 1px;}#sk-container-id-12 div.sk-estimator {font-family: monospace;background-color: #f0f8ff;border: 1px dotted black;border-radius: 0.25em;box-sizing: border-box;margin-bottom: 0.5em;}#sk-container-id-12 div.sk-estimator:hover {background-color: #d4ebff;}#sk-container-id-12 div.sk-parallel-item::after {content: \"\";width: 100%;border-bottom: 1px solid gray;flex-grow: 1;}#sk-container-id-12 div.sk-label:hover label.sk-toggleable__label {background-color: #d4ebff;}#sk-container-id-12 div.sk-serial::before {content: \"\";position: absolute;border-left: 1px solid gray;box-sizing: border-box;top: 0;bottom: 0;left: 50%;z-index: 0;}#sk-container-id-12 div.sk-serial {display: flex;flex-direction: column;align-items: center;background-color: white;padding-right: 0.2em;padding-left: 0.2em;position: relative;}#sk-container-id-12 div.sk-item {position: relative;z-index: 1;}#sk-container-id-12 div.sk-parallel {display: flex;align-items: stretch;justify-content: center;background-color: white;position: relative;}#sk-container-id-12 div.sk-item::before, #sk-container-id-12 div.sk-parallel-item::before {content: \"\";position: absolute;border-left: 1px solid gray;box-sizing: border-box;top: 0;bottom: 0;left: 50%;z-index: -1;}#sk-container-id-12 div.sk-parallel-item {display: flex;flex-direction: column;z-index: 1;position: relative;background-color: white;}#sk-container-id-12 div.sk-parallel-item:first-child::after {align-self: flex-end;width: 50%;}#sk-container-id-12 div.sk-parallel-item:last-child::after {align-self: flex-start;width: 50%;}#sk-container-id-12 div.sk-parallel-item:only-child::after {width: 0;}#sk-container-id-12 div.sk-dashed-wrapped {border: 1px dashed gray;margin: 0 0.4em 0.5em 0.4em;box-sizing: border-box;padding-bottom: 0.4em;background-color: white;}#sk-container-id-12 div.sk-label label {font-family: monospace;font-weight: bold;display: inline-block;line-height: 1.2em;}#sk-container-id-12 div.sk-label-container {text-align: center;}#sk-container-id-12 div.sk-container {/* jupyter's `normalize.less` sets `[hidden] { display: none; }` but bootstrap.min.css set `[hidden] { display: none !important; }` so we also need the `!important` here to be able to override the default hidden behavior on the sphinx rendered scikit-learn.org. See: https://github.com/scikit-learn/scikit-learn/issues/21755 */display: inline-block !important;position: relative;}#sk-container-id-12 div.sk-text-repr-fallback {display: none;}</style><div id=\"sk-container-id-12\" class=\"sk-top-container\"><div class=\"sk-text-repr-fallback\"><pre>PCA(n_components=23)</pre><b>In a Jupyter environment, please rerun this cell to show the HTML representation or trust the notebook. <br />On GitHub, the HTML representation is unable to render, please try loading this page with nbviewer.org.</b></div><div class=\"sk-container\" hidden><div class=\"sk-item\"><div class=\"sk-estimator sk-toggleable\"><input class=\"sk-toggleable__control sk-hidden--visually\" id=\"sk-estimator-id-12\" type=\"checkbox\" checked><label for=\"sk-estimator-id-12\" class=\"sk-toggleable__label sk-toggleable__label-arrow\">PCA</label><div class=\"sk-toggleable__content\"><pre>PCA(n_components=23)</pre></div></div></div></div></div>"
      ],
      "text/plain": [
       "PCA(n_components=23)"
      ]
     },
     "execution_count": 275,
     "metadata": {},
     "output_type": "execute_result"
    }
   ],
   "source": [
    "pca.fit(t[datacolumns_selected])"
   ]
  },
  {
   "cell_type": "code",
   "execution_count": 276,
   "id": "20fa6e15-5302-4fbe-a15b-26e5fe102416",
   "metadata": {},
   "outputs": [
    {
     "name": "stdout",
     "output_type": "stream",
     "text": [
      "[9.99574966e-01 2.26860786e-04 9.13633255e-05 5.10558892e-05\n",
      " 2.53150914e-05 1.02611230e-05 5.27246602e-06 4.50608600e-06\n",
      " 3.64802947e-06 2.13703542e-06 1.91539674e-06 1.77502557e-06\n",
      " 6.50823491e-07 1.22706888e-07 7.45926824e-08 2.64878669e-08\n",
      " 2.23115102e-08 1.04670259e-08 6.48931776e-09 5.15602806e-09\n",
      " 3.89380297e-09 6.55698557e-10 5.78929942e-11]\n"
     ]
    }
   ],
   "source": [
    "print(pca.explained_variance_ratio_)"
   ]
  },
  {
   "cell_type": "code",
   "execution_count": 277,
   "id": "1489b8c9-2aeb-4347-af9d-02ff150a9cbb",
   "metadata": {},
   "outputs": [
    {
     "name": "stdout",
     "output_type": "stream",
     "text": [
      "[4.95938072e+05 7.47135685e+03 4.74139037e+03 3.54439966e+03\n",
      " 2.49579847e+03 1.58897554e+03 1.13900770e+03 1.05297850e+03\n",
      " 9.47433927e+02 7.25146280e+02 6.86513585e+02 6.60879180e+02\n",
      " 4.00176308e+02 1.73761771e+02 1.35477719e+02 8.07315436e+01\n",
      " 7.40942058e+01 5.07494585e+01 3.99594299e+01 3.56186455e+01\n",
      " 3.09532852e+01 1.27019932e+01 3.77426830e+00]\n"
     ]
    }
   ],
   "source": [
    "print(pca.singular_values_)"
   ]
  },
  {
   "cell_type": "code",
   "execution_count": 278,
   "id": "3cec519e-ab14-413d-96b1-9a13f1811c4b",
   "metadata": {},
   "outputs": [
    {
     "data": {
      "text/plain": [
       "0.0    36315\n",
       "1.0     4444\n",
       "Name: weight_prec_std_lab, dtype: int64"
      ]
     },
     "execution_count": 278,
     "metadata": {},
     "output_type": "execute_result"
    }
   ],
   "source": [
    "t[\"weight_prec_std_lab\"].value_counts()"
   ]
  },
  {
   "cell_type": "code",
   "execution_count": 279,
   "id": "2b294563-9eb9-40b4-b137-8ef73d4bea3e",
   "metadata": {},
   "outputs": [],
   "source": [
    "l = [\"pca\"+ str(i)for i in range(1,24)]"
   ]
  },
  {
   "cell_type": "code",
   "execution_count": 280,
   "id": "6eecfe12-0787-4eed-9e3a-004231315611",
   "metadata": {},
   "outputs": [],
   "source": [
    "t[l] = pca.transform(t[datacolumns_selected])"
   ]
  },
  {
   "cell_type": "code",
   "execution_count": 281,
   "id": "03332555-fbd0-4dc3-9f61-bed7adb2e034",
   "metadata": {},
   "outputs": [],
   "source": [
    "t = pd.concat([t[(t[\"weight_prec_std_lab\"] == 1)],\n",
    "                t[(t[\"weight_prec_std_lab\"] == 0)].sample(\n",
    "                t[(t[\"weight_prec_std_lab\"] == 1)].shape[0]\n",
    "                )])"
   ]
  },
  {
   "cell_type": "code",
   "execution_count": 282,
   "id": "65d30a2d-0a68-409f-a786-ad7c155efffd",
   "metadata": {},
   "outputs": [
    {
     "name": "stdout",
     "output_type": "stream",
     "text": [
      "Number of missing values: \n",
      " Year of birth                                                0\n",
      "Waist circumference | Instance 0                             0\n",
      "Weight | Instance 0                                          0\n",
      "Body mass index (BMI) | Instance 0                           0\n",
      "Hip circumference | Instance 0                               0\n",
      "Standing height | Instance 0                                 0\n",
      "Whole body fat mass | Instance 0                             0\n",
      "Body fat percentage | Instance 0                             0\n",
      "Summed MET minutes per week for all activity | Instance 0    0\n",
      "Summed minutes activity | Instance 0                         0\n",
      "Diastolic blood pressure                                     0\n",
      "Systolic blood pressure                                      0\n",
      "C-reactive protein | Instance 0                              0\n",
      "Cholesterol_lowering_medication                              0\n",
      "Blood_pressure                                               0\n",
      "Insulin                                                      0\n",
      "Glycated haemoglobin (HbA1c) | Instance 0                    0\n",
      "trigl_hdl_ratio_0                                            0\n",
      "apob_apoa_ratio_0                                            0\n",
      "Brisk pace                                                   0\n",
      "Slow pace                                                    0\n",
      "Steady average pace                                          0\n",
      "Sex                                                          0\n",
      "weight_prec_std_lab                                          0\n",
      "pca1                                                         0\n",
      "pca2                                                         0\n",
      "pca3                                                         0\n",
      "pca4                                                         0\n",
      "pca5                                                         0\n",
      "pca6                                                         0\n",
      "pca7                                                         0\n",
      "pca8                                                         0\n",
      "pca9                                                         0\n",
      "pca10                                                        0\n",
      "pca11                                                        0\n",
      "pca12                                                        0\n",
      "pca13                                                        0\n",
      "pca14                                                        0\n",
      "pca15                                                        0\n",
      "pca16                                                        0\n",
      "pca17                                                        0\n",
      "pca18                                                        0\n",
      "pca19                                                        0\n",
      "pca20                                                        0\n",
      "pca21                                                        0\n",
      "pca22                                                        0\n",
      "pca23                                                        0\n",
      "dtype: int64\n",
      "Dataframe dimensions:  (8888, 47)\n"
     ]
    },
    {
     "data": {
      "image/png": "[encoded data removed]",
      "text/plain": [
       "<Figure size 640x480 with 1 Axes>"
      ]
     },
     "metadata": {},
     "output_type": "display_data"
    },
    {
     "name": "stdout",
     "output_type": "stream",
     "text": [
      "F1:  0.6450601382715583 0.62054314795155 0.618758634361735\n",
      "auc:  [0.5, 0.6958767027848451, 0.6607108289138439, 0.6747211016071232]\n",
      "accuracy:  [0.5, 0.6433403196575667, 0.6236510391181406, 0.6254503077379818]\n"
     ]
    }
   ],
   "source": [
    "emp.pipeline(t, \"weight_prec_std_lab\", l,0.25, splits=5)"
   ]
  },
  {
   "cell_type": "markdown",
   "id": "5437d74d-acc8-4df4-b11e-153955d0017b",
   "metadata": {},
   "source": [
    "#### set point"
   ]
  },
  {
   "cell_type": "code",
   "execution_count": 284,
   "id": "709c159b-69bd-4c88-aaf2-bde6f9ab790f",
   "metadata": {},
   "outputs": [],
   "source": [
    "from scipy import stats"
   ]
  },
  {
   "cell_type": "code",
   "execution_count": 316,
   "id": "ab8e5b80-4990-4383-8eba-7a76a10df1f3",
   "metadata": {},
   "outputs": [],
   "source": [
    "datacolumns_selected =[\n",
    "'Year of birth',\n",
    "'Waist circumference | Instance 0',\n",
    "'Weight | Instance 0',\n",
    "'Body mass index (BMI) | Instance 0',\n",
    "'Hip circumference | Instance 0',\n",
    "'Standing height | Instance 0',\n",
    "'Whole body fat mass | Instance 0',\n",
    "'Body fat percentage | Instance 0',\n",
    "\"Basal metabolic rate | Instance 0\",\n",
    "#'Time spent using computer | Instance 0',\n",
    "#'Time spent watching television (TV) | Instance 0',\n",
    "'Summed MET minutes per week for all activity | Instance 0',\n",
    "'Summed minutes activity | Instance 0',\n",
    "'Diastolic blood pressure',\n",
    "'Systolic blood pressure',\n",
    "'C-reactive protein | Instance 0',\n",
    "'Cholesterol_lowering_medication',\n",
    "'Blood_pressure',\n",
    "'Insulin',\n",
    "'Glycated haemoglobin (HbA1c) | Instance 0',\n",
    "'trigl_hdl_ratio_0',\n",
    "'apob_apoa_ratio_0',\n",
    "'Brisk pace',\n",
    "'Slow pace',\n",
    "'Steady average pace',\n",
    "\"Sex\",\n",
    "'Weight | Instance 2'\n",
    "]"
   ]
  },
  {
   "cell_type": "code",
   "execution_count": 317,
   "id": "c33abf13-0014-4173-a135-34c64b1dc051",
   "metadata": {},
   "outputs": [],
   "source": [
    "t = df[(df[\"Sex\"] == 1)]\n",
    "t = t[datacolumns_selected].dropna()\n",
    "slope, intercept, r, p, std_err = stats.linregress(t['Weight | Instance 0'],t['Basal metabolic rate | Instance 0'])\n",
    "\n",
    "def linear_func(x):\n",
    "    return slope * x +intercept\n",
    "\n",
    "model = list(map(linear_func, t['Weight | Instance 0']))\n",
    "\n",
    "t[\"pred\"] = t['Weight | Instance 0'].apply(linear_func)\n",
    "t[\"distance\"] = t[\"Basal metabolic rate | Instance 0\"] - t[\"pred\"]"
   ]
  },
  {
   "cell_type": "code",
   "execution_count": 335,
   "id": "65512312-405a-45d9-b5b3-de0c8bcdba08",
   "metadata": {},
   "outputs": [],
   "source": [
    "tdatacolumns_selected =[\n",
    "'Year of birth',\n",
    "'Waist circumference | Instance 0',\n",
    "'Weight | Instance 0',\n",
    "'Body mass index (BMI) | Instance 0',\n",
    "'Hip circumference | Instance 0',\n",
    "'Standing height | Instance 0',\n",
    "'Whole body fat mass | Instance 0',\n",
    "'Body fat percentage | Instance 0',\n",
    "#'Time spent using computer | Instance 0',\n",
    "#'Time spent watching television (TV) | Instance 0',\n",
    "'Summed MET minutes per week for all activity | Instance 0',\n",
    "'Summed minutes activity | Instance 0',\n",
    "'Diastolic blood pressure',\n",
    "'Systolic blood pressure',\n",
    "'C-reactive protein | Instance 0',\n",
    "'Cholesterol_lowering_medication',\n",
    "'Blood_pressure',\n",
    "'Insulin',\n",
    "'Glycated haemoglobin (HbA1c) | Instance 0',\n",
    "'trigl_hdl_ratio_0',\n",
    "'apob_apoa_ratio_0',\n",
    "'Brisk pace',\n",
    "'Slow pace',\n",
    "'Steady average pace',\n",
    "\"Sex\",\n",
    "\"distance\"\n",
    "]"
   ]
  },
  {
   "cell_type": "code",
   "execution_count": 336,
   "id": "353e0c77-e1ef-4852-b09c-2794f1b03052",
   "metadata": {},
   "outputs": [],
   "source": [
    "t[\"weight_difperc_0_2\"] = t[['Weight | Instance 0','Weight | Instance 2']].apply(perc_weight, axis=1)"
   ]
  },
  {
   "cell_type": "code",
   "execution_count": 337,
   "id": "90faff8b-3c05-463b-9e00-85b42d794310",
   "metadata": {},
   "outputs": [],
   "source": [
    "tdatacolumns_selected_lab = tdatacolumns_selected+[\"weight_prec_std_lab\"]"
   ]
  },
  {
   "cell_type": "code",
   "execution_count": 338,
   "id": "4c6d114f-61d0-4055-a24d-db9865ef880f",
   "metadata": {},
   "outputs": [],
   "source": [
    "t[\"weight_prec_std_lab\"] = t[\"weight_difperc_0_2\"].apply(sd_lab)"
   ]
  },
  {
   "cell_type": "code",
   "execution_count": 339,
   "id": "27c0506b-56a7-4b9b-a95d-32d6cad3493e",
   "metadata": {},
   "outputs": [],
   "source": [
    "cohort = pd.concat([t[(t[\"weight_prec_std_lab\"] == 1)],\n",
    "                    t[(t[\"weight_prec_std_lab\"] == 0)].sample(\n",
    "                    t[(t[\"weight_prec_std_lab\"] == 1)].shape[0]\n",
    "                    )])\n",
    "cohort = cohort[tdatacolumns_selected_lab]"
   ]
  },
  {
   "cell_type": "code",
   "execution_count": 340,
   "id": "6b7dae1a-7c22-4e86-b344-b746e3091379",
   "metadata": {},
   "outputs": [
    {
     "name": "stdout",
     "output_type": "stream",
     "text": [
      "Number of missing values: \n",
      " Year of birth                                                0\n",
      "Waist circumference | Instance 0                             0\n",
      "Weight | Instance 0                                          0\n",
      "Body mass index (BMI) | Instance 0                           0\n",
      "Hip circumference | Instance 0                               0\n",
      "Standing height | Instance 0                                 0\n",
      "Whole body fat mass | Instance 0                             0\n",
      "Body fat percentage | Instance 0                             0\n",
      "Summed MET minutes per week for all activity | Instance 0    0\n",
      "Summed minutes activity | Instance 0                         0\n",
      "Diastolic blood pressure                                     0\n",
      "Systolic blood pressure                                      0\n",
      "C-reactive protein | Instance 0                              0\n",
      "Cholesterol_lowering_medication                              0\n",
      "Blood_pressure                                               0\n",
      "Insulin                                                      0\n",
      "Glycated haemoglobin (HbA1c) | Instance 0                    0\n",
      "trigl_hdl_ratio_0                                            0\n",
      "apob_apoa_ratio_0                                            0\n",
      "Brisk pace                                                   0\n",
      "Slow pace                                                    0\n",
      "Steady average pace                                          0\n",
      "Sex                                                          0\n",
      "distance                                                     0\n",
      "weight_prec_std_lab                                          0\n",
      "dtype: int64\n",
      "Dataframe dimensions:  (3278, 25)\n"
     ]
    },
    {
     "data": {
      "image/png": "[encoded data removed]",
      "text/plain": [
       "<Figure size 640x480 with 1 Axes>"
      ]
     },
     "metadata": {},
     "output_type": "display_data"
    },
    {
     "name": "stdout",
     "output_type": "stream",
     "text": [
      "F1:  0.5903940388112588 0.5014757507473575 0.5879639104287305\n",
      "auc:  [0.5, 0.6337439420069968, 0.6313957988819092, 0.6122630839232145]\n",
      "accuracy:  [0.5, 0.5991482033140942, 0.5811436417799293, 0.5887707130888102]\n"
     ]
    }
   ],
   "source": [
    "emp.pipeline(cohort, \"weight_prec_std_lab\", tdatacolumns_selected,0.25, splits=5)"
   ]
  },
  {
   "cell_type": "markdown",
   "id": "cdf54bb4-24d3-4178-84ae-d8b9e7e4cc20",
   "metadata": {},
   "source": [
    "## Adding more data"
   ]
  },
  {
   "cell_type": "code",
   "execution_count": 376,
   "id": "18b4a6c2-7918-4ca0-87cd-95e6a77a8e8d",
   "metadata": {},
   "outputs": [
    {
     "data": {
      "text/plain": [
       "(502364, 312)"
      ]
     },
     "execution_count": 376,
     "metadata": {},
     "output_type": "execute_result"
    }
   ],
   "source": [
    "df.shape"
   ]
  },
  {
   "cell_type": "code",
   "execution_count": 377,
   "id": "aad0c98b-719d-4059-83c0-fb4b4178f087",
   "metadata": {},
   "outputs": [
    {
     "name": "stderr",
     "output_type": "stream",
     "text": [
      "C:\\Users\\keimp\\AppData\\Local\\Temp\\ipykernel_14148\\1475605673.py:2: FutureWarning: The pandas.np module is deprecated and will be removed from pandas in a future version. Import numpy directly instead\n",
      "  df['Time spent using computer | Instance 0'] = df['Time spent using computer | Instance 0'].replace(\"Do not know\", pd.np.nan)\n",
      "C:\\Users\\keimp\\AppData\\Local\\Temp\\ipykernel_14148\\1475605673.py:3: FutureWarning: The pandas.np module is deprecated and will be removed from pandas in a future version. Import numpy directly instead\n",
      "  df['Time spent using computer | Instance 0'] = df['Time spent using computer | Instance 0'].replace(\"Prefer not to answer\", pd.np.nan)\n"
     ]
    }
   ],
   "source": [
    "df['Time spent using computer | Instance 0'] = df['Time spent using computer | Instance 0'].replace(\"Less than an hour a day\", 0.5)\n",
    "df['Time spent using computer | Instance 0'] = df['Time spent using computer | Instance 0'].replace(\"Do not know\", pd.np.nan)\n",
    "df['Time spent using computer | Instance 0'] = df['Time spent using computer | Instance 0'].replace(\"Prefer not to answer\", pd.np.nan)"
   ]
  },
  {
   "cell_type": "code",
   "execution_count": 378,
   "id": "5bf6a2cc-9715-461b-ae1f-fd4bb11ae316",
   "metadata": {},
   "outputs": [
    {
     "name": "stderr",
     "output_type": "stream",
     "text": [
      "C:\\Users\\keimp\\AppData\\Local\\Temp\\ipykernel_14148\\682370225.py:2: FutureWarning: The pandas.np module is deprecated and will be removed from pandas in a future version. Import numpy directly instead\n",
      "  df['Time spent watching television (TV) | Instance 0'] = df['Time spent watching television (TV) | Instance 0'].replace(\"Do not know\", pd.np.nan)\n",
      "C:\\Users\\keimp\\AppData\\Local\\Temp\\ipykernel_14148\\682370225.py:3: FutureWarning: The pandas.np module is deprecated and will be removed from pandas in a future version. Import numpy directly instead\n",
      "  df['Time spent watching television (TV) | Instance 0'] = df['Time spent watching television (TV) | Instance 0'].replace(\"Prefer not to answer\", pd.np.nan)\n"
     ]
    }
   ],
   "source": [
    "df['Time spent watching television (TV) | Instance 0'] = df['Time spent watching television (TV) | Instance 0'].replace(\"Less than an hour a day\", 0.5)\n",
    "df['Time spent watching television (TV) | Instance 0'] = df['Time spent watching television (TV) | Instance 0'].replace(\"Do not know\", pd.np.nan)\n",
    "df['Time spent watching television (TV) | Instance 0'] = df['Time spent watching television (TV) | Instance 0'].replace(\"Prefer not to answer\", pd.np.nan)"
   ]
  },
  {
   "cell_type": "code",
   "execution_count": 379,
   "id": "271a45aa-8160-4ee2-ab3c-515f39a6b58a",
   "metadata": {},
   "outputs": [
    {
     "name": "stderr",
     "output_type": "stream",
     "text": [
      "C:\\Users\\keimp\\AppData\\Local\\Temp\\ipykernel_14148\\2184150623.py:1: FutureWarning: The pandas.np module is deprecated and will be removed from pandas in a future version. Import numpy directly instead\n",
      "  df['Duration of moderate activity | Instance 0'] = df['Duration of moderate activity | Instance 0'].replace(\"Do not know\", pd.np.nan)\n",
      "C:\\Users\\keimp\\AppData\\Local\\Temp\\ipykernel_14148\\2184150623.py:2: FutureWarning: The pandas.np module is deprecated and will be removed from pandas in a future version. Import numpy directly instead\n",
      "  df['Duration of moderate activity | Instance 0'] = df['Duration of moderate activity | Instance 0'].replace(\"Prefer not to answer\", pd.np.nan)\n"
     ]
    }
   ],
   "source": [
    "df['Duration of moderate activity | Instance 0'] = df['Duration of moderate activity | Instance 0'].replace(\"Do not know\", pd.np.nan)\n",
    "df['Duration of moderate activity | Instance 0'] = df['Duration of moderate activity | Instance 0'].replace(\"Prefer not to answer\", pd.np.nan)"
   ]
  },
  {
   "cell_type": "code",
   "execution_count": 380,
   "id": "23b4f2b4-d75c-4e2e-bd38-3de3bd5ba5cc",
   "metadata": {},
   "outputs": [
    {
     "name": "stderr",
     "output_type": "stream",
     "text": [
      "C:\\Users\\keimp\\AppData\\Local\\Temp\\ipykernel_14148\\1102098838.py:1: FutureWarning: The pandas.np module is deprecated and will be removed from pandas in a future version. Import numpy directly instead\n",
      "  df['Duration of vigorous activity | Instance 0'] = df['Duration of vigorous activity | Instance 0'].replace(\"Do not know\", pd.np.nan)\n",
      "C:\\Users\\keimp\\AppData\\Local\\Temp\\ipykernel_14148\\1102098838.py:2: FutureWarning: The pandas.np module is deprecated and will be removed from pandas in a future version. Import numpy directly instead\n",
      "  df['Duration of vigorous activity | Instance 0'] = df['Duration of vigorous activity | Instance 0'].replace(\"Prefer not to answer\", pd.np.nan)\n"
     ]
    }
   ],
   "source": [
    "df['Duration of vigorous activity | Instance 0'] = df['Duration of vigorous activity | Instance 0'].replace(\"Do not know\", pd.np.nan)\n",
    "df['Duration of vigorous activity | Instance 0'] = df['Duration of vigorous activity | Instance 0'].replace(\"Prefer not to answer\", pd.np.nan)"
   ]
  },
  {
   "cell_type": "code",
   "execution_count": 381,
   "id": "e16e83fa-6254-41c9-9766-02c07eac4bd3",
   "metadata": {},
   "outputs": [],
   "source": [
    "one_hot = pd.get_dummies(df['IPAQ activity group | Instance 0'])\n",
    "df = pd.concat([df, one_hot], axis=1)"
   ]
  },
  {
   "cell_type": "code",
   "execution_count": 382,
   "id": "ca576d86-d4e5-436a-b54a-fe028b84de2f",
   "metadata": {},
   "outputs": [],
   "source": [
    "one_hot = pd.get_dummies(df['Duration of strenuous sports | Instance 0'])\n",
    "df = pd.concat([df, one_hot], axis=1)"
   ]
  },
  {
   "cell_type": "code",
   "execution_count": 383,
   "id": "5702d33c-eadd-40a5-b4c7-d077e91c75da",
   "metadata": {},
   "outputs": [],
   "source": [
    "one_hot = pd.get_dummies(df['Alcohol intake frequency. | Instance 0'])\n",
    "df = pd.concat([df, one_hot], axis=1)"
   ]
  },
  {
   "cell_type": "code",
   "execution_count": 384,
   "id": "ae3b54b0-30b4-434a-80a0-fc761d1f097f",
   "metadata": {},
   "outputs": [
    {
     "name": "stderr",
     "output_type": "stream",
     "text": [
      "C:\\Users\\keimp\\AppData\\Local\\Temp\\ipykernel_14148\\1023793530.py:1: FutureWarning: The pandas.np module is deprecated and will be removed from pandas in a future version. Import numpy directly instead\n",
      "  df['Sleep duration | Instance 0'] = df['Sleep duration | Instance 0'].replace(\"Do not know\", pd.np.nan)\n",
      "C:\\Users\\keimp\\AppData\\Local\\Temp\\ipykernel_14148\\1023793530.py:2: FutureWarning: The pandas.np module is deprecated and will be removed from pandas in a future version. Import numpy directly instead\n",
      "  df['Sleep duration | Instance 0'] = df['Sleep duration | Instance 0'].replace(\"Prefer not to answer\", pd.np.nan)\n"
     ]
    }
   ],
   "source": [
    "df['Sleep duration | Instance 0'] = df['Sleep duration | Instance 0'].replace(\"Do not know\", pd.np.nan)\n",
    "df['Sleep duration | Instance 0'] = df['Sleep duration | Instance 0'].replace(\"Prefer not to answer\", pd.np.nan)"
   ]
  },
  {
   "cell_type": "markdown",
   "id": "ee1a16a8-db39-424d-b951-81bb59083533",
   "metadata": {},
   "source": [
    "### Revisiting modeling"
   ]
  },
  {
   "cell_type": "code",
   "execution_count": null,
   "id": "c94b6abd-e87f-4006-85a6-42ff7b6c43e6",
   "metadata": {},
   "outputs": [],
   "source": [
    "datacolumns_selected =[\n",
    "'Year of birth',\n",
    "'Waist circumference | Instance 0',\n",
    "'Weight | Instance 0',\n",
    "'Body mass index (BMI) | Instance 0',\n",
    "'Hip circumference | Instance 0',\n",
    "'Standing height | Instance 0',\n",
    "'Whole body fat mass | Instance 0',\n",
    "'Body fat percentage | Instance 0',\n",
    "'Time spent using computer | Instance 0',\n",
    "'Time spent watching television (TV) | Instance 0',\n",
    "'Summed MET minutes per week for all activity | Instance 0',\n",
    "'Summed minutes activity | Instance 0',\n",
    "'Diastolic blood pressure',\n",
    "'Systolic blood pressure',\n",
    "'C-reactive protein | Instance 0',\n",
    "'Cholesterol_lowering_medication',\n",
    "'Blood_pressure',\n",
    "'Insulin',\n",
    "'Glycated haemoglobin (HbA1c) | Instance 0',\n",
    "'trigl_hdl_ratio_0',\n",
    "'apob_apoa_ratio_0',\n",
    "'Brisk pace',\n",
    "'Slow pace',\n",
    "'Steady average pace',\n",
    "\"Sex\",\n",
    "'Duration of moderate activity | Instance 0',\n",
    "'Duration of vigorous activity | Instance 0',\n",
    "'Sleep duration | Instance 0',\n",
    "'high',\n",
    " 'low',\n",
    " 'moderate',\n",
    " 'Between 1 and 1.5 hours',\n",
    " 'Between 1.5 and 2 hours',\n",
    " 'Between 15 and 30 minutes',\n",
    " 'Between 2 and 3 hours',\n",
    " 'Between 30 minutes and 1 hour',\n",
    " 'Less than 15 minutes',\n",
    " 'Over 3 hours',\n",
    " 'Prefer not to answer',\n",
    " 'Daily or almost daily',\n",
    " 'Never',\n",
    " 'Once or twice a week',\n",
    " 'One to three times a month',\n",
    " 'Special occasions only',\n",
    " 'Three or four times a week'\n",
    "]"
   ]
  },
  {
   "cell_type": "code",
   "execution_count": 395,
   "id": "858aed9b-2635-40e8-b770-027cfb66c982",
   "metadata": {},
   "outputs": [],
   "source": [
    "datacolumns_selected =[\n",
    "'Year of birth',\n",
    "'Brisk pace',\n",
    "'Slow pace',\n",
    "'Steady average pace',\n",
    "\"Sex\",\n",
    "'high',\n",
    " 'low',\n",
    " 'moderate'\n",
    "]"
   ]
  },
  {
   "cell_type": "code",
   "execution_count": 396,
   "id": "ad90176f-9938-44e7-bdc3-c15d5d5818f9",
   "metadata": {},
   "outputs": [
    {
     "name": "stderr",
     "output_type": "stream",
     "text": [
      "C:\\Users\\keimp\\AppData\\Local\\Temp\\ipykernel_14148\\4213814191.py:4: FutureWarning: The pandas.np module is deprecated and will be removed from pandas in a future version. Import numpy directly instead\n",
      "  return pd.np.nan\n"
     ]
    }
   ],
   "source": [
    "df[\"weight_difperc_0_2\"] = df[['Weight | Instance 0','Weight | Instance 2']].apply(perc_weight, axis=1)"
   ]
  },
  {
   "cell_type": "code",
   "execution_count": 397,
   "id": "fedc9ea2-08bb-4105-92ec-52b7e50da483",
   "metadata": {},
   "outputs": [],
   "source": [
    "s = df[\"weight_difperc_0_2\"].std()"
   ]
  },
  {
   "cell_type": "code",
   "execution_count": 398,
   "id": "54757a09-5aed-400d-9a88-2d9755c080be",
   "metadata": {},
   "outputs": [
    {
     "name": "stderr",
     "output_type": "stream",
     "text": [
      "C:\\Users\\keimp\\AppData\\Local\\Temp\\ipykernel_14148\\640616617.py:3: FutureWarning: The pandas.np module is deprecated and will be removed from pandas in a future version. Import numpy directly instead\n",
      "  return pd.np.nan\n"
     ]
    }
   ],
   "source": [
    "df[\"weight_prec_std_lab\"] = df[\"weight_difperc_0_2\"].apply(sd_lab)"
   ]
  },
  {
   "cell_type": "code",
   "execution_count": 399,
   "id": "dea06205-6fa3-41c0-b70d-45b3cbac010a",
   "metadata": {},
   "outputs": [
    {
     "data": {
      "text/plain": [
       "0.0    56394\n",
       "1.0     7091\n",
       "Name: weight_prec_std_lab, dtype: int64"
      ]
     },
     "execution_count": 399,
     "metadata": {},
     "output_type": "execute_result"
    }
   ],
   "source": [
    "df[\"weight_prec_std_lab\"].value_counts()"
   ]
  },
  {
   "cell_type": "code",
   "execution_count": 400,
   "id": "783a8abc-0016-46b5-882a-7b2a8f8047eb",
   "metadata": {},
   "outputs": [],
   "source": [
    "datacolumns_selected_lab = datacolumns_selected+[\"weight_prec_std_lab\"]"
   ]
  },
  {
   "cell_type": "code",
   "execution_count": 401,
   "id": "2df779a6-35c9-4d43-958c-616fd3834b5c",
   "metadata": {},
   "outputs": [],
   "source": [
    "cohort = pd.concat([df[(df[\"weight_prec_std_lab\"] == 1)],\n",
    "                    df[(df[\"weight_prec_std_lab\"] == 0)].sample(\n",
    "                    df[(df[\"weight_prec_std_lab\"] == 1)].shape[0]\n",
    "                    )])\n",
    "cohort = cohort[datacolumns_selected_lab]"
   ]
  },
  {
   "cell_type": "code",
   "execution_count": 402,
   "id": "11a58d11-8b79-4c0c-97cf-24b19b9980d0",
   "metadata": {},
   "outputs": [
    {
     "name": "stdout",
     "output_type": "stream",
     "text": [
      "Number of missing values: \n",
      " Year of birth          0\n",
      "Brisk pace             0\n",
      "Slow pace              0\n",
      "Steady average pace    0\n",
      "Sex                    0\n",
      "high                   0\n",
      "low                    0\n",
      "moderate               0\n",
      "weight_prec_std_lab    0\n",
      "dtype: int64\n",
      "Dataframe dimensions:  (14182, 9)\n"
     ]
    },
    {
     "data": {
      "image/png": "[encoded data removed]",
      "text/plain": [
       "<Figure size 640x480 with 1 Axes>"
      ]
     },
     "metadata": {},
     "output_type": "display_data"
    },
    {
     "name": "stdout",
     "output_type": "stream",
     "text": [
      "F1:  0.6027396842888149 0.6315057512891705 0.6079448685468443\n",
      "auc:  [0.5, 0.5972024293265935, 0.6759378843831764, 0.6580360255946796]\n",
      "accuracy:  [0.5, 0.5738269432787471, 0.6335495887757634, 0.6126777029113075]\n"
     ]
    }
   ],
   "source": [
    "emp.pipeline(cohort, \"weight_prec_std_lab\", datacolumns_selected,0.25, splits=5)"
   ]
  },
  {
   "cell_type": "code",
   "execution_count": null,
   "id": "19beab4a-ba5a-4c27-b681-b200b156a696",
   "metadata": {},
   "outputs": [],
   "source": []
  },
  {
   "cell_type": "code",
   "execution_count": null,
   "id": "112b8276-b630-48db-a41f-5379a74fcc8e",
   "metadata": {},
   "outputs": [],
   "source": []
  },
  {
   "cell_type": "code",
   "execution_count": null,
   "id": "f3b18c4e-8383-4b1d-a9f6-7db74e0a4e1b",
   "metadata": {},
   "outputs": [],
   "source": []
  },
  {
   "cell_type": "code",
   "execution_count": null,
   "id": "3760a797-fd61-45fb-92fa-21a6af1cf269",
   "metadata": {},
   "outputs": [],
   "source": []
  },
  {
   "cell_type": "code",
   "execution_count": null,
   "id": "b2a00a18-62fb-448c-97fb-5a003e7df304",
   "metadata": {},
   "outputs": [],
   "source": []
  },
  {
   "cell_type": "code",
   "execution_count": null,
   "id": "db97dfba-4c43-42c0-ab9d-4a9a806df935",
   "metadata": {},
   "outputs": [],
   "source": []
  },
  {
   "cell_type": "code",
   "execution_count": null,
   "id": "ef234217-5eeb-4e0b-aa86-83331d6ea6ea",
   "metadata": {},
   "outputs": [],
   "source": []
  },
  {
   "cell_type": "code",
   "execution_count": null,
   "id": "373a7690-0f93-4272-821a-fac37a75bc09",
   "metadata": {},
   "outputs": [],
   "source": []
  },
  {
   "cell_type": "code",
   "execution_count": null,
   "id": "22216a6a-d570-48bf-930f-e32afa21c258",
   "metadata": {},
   "outputs": [],
   "source": []
  },
  {
   "cell_type": "code",
   "execution_count": null,
   "id": "52b4ab88-0783-444d-9465-a0c50a1080d3",
   "metadata": {},
   "outputs": [],
   "source": []
  },
  {
   "cell_type": "code",
   "execution_count": null,
   "id": "039fa027-1192-4e8c-be6e-58361e0f8ef5",
   "metadata": {},
   "outputs": [],
   "source": []
  },
  {
   "cell_type": "code",
   "execution_count": null,
   "id": "340baca4-9fd5-41c7-bba8-52495adcaa40",
   "metadata": {},
   "outputs": [],
   "source": []
  },
  {
   "cell_type": "code",
   "execution_count": null,
   "id": "beace7cb-f906-4cce-be92-a1e4fee99f10",
   "metadata": {},
   "outputs": [],
   "source": []
  },
  {
   "cell_type": "code",
   "execution_count": 363,
   "id": "29d7e9d6-609f-40b1-986a-01bf5020e1aa",
   "metadata": {},
   "outputs": [
    {
     "data": {
      "text/plain": [
       "['Participant ID',\n",
       " 'Waist circumference | Instance 0',\n",
       " 'Waist circumference | Instance 1',\n",
       " 'Waist circumference | Instance 2',\n",
       " 'Waist circumference | Instance 3',\n",
       " 'Weight | Instance 0',\n",
       " 'Weight | Instance 1',\n",
       " 'Weight | Instance 2',\n",
       " 'Weight | Instance 3',\n",
       " 'Body mass index (BMI) | Instance 0',\n",
       " 'Body mass index (BMI) | Instance 1',\n",
       " 'Body mass index (BMI) | Instance 2',\n",
       " 'Body mass index (BMI) | Instance 3',\n",
       " 'Hip circumference | Instance 0',\n",
       " 'Hip circumference | Instance 1',\n",
       " 'Hip circumference | Instance 2',\n",
       " 'Hip circumference | Instance 3',\n",
       " 'Standing height | Instance 0',\n",
       " 'Standing height | Instance 1',\n",
       " 'Standing height | Instance 2',\n",
       " 'Standing height | Instance 3',\n",
       " 'Whole body fat mass | Instance 0',\n",
       " 'Whole body fat mass | Instance 1',\n",
       " 'Whole body fat mass | Instance 2',\n",
       " 'Whole body fat mass | Instance 3',\n",
       " 'Body fat percentage | Instance 0',\n",
       " 'Body fat percentage | Instance 1',\n",
       " 'Body fat percentage | Instance 2',\n",
       " 'Body fat percentage | Instance 3',\n",
       " 'Basal metabolic rate | Instance 0',\n",
       " 'Basal metabolic rate | Instance 1',\n",
       " 'Basal metabolic rate | Instance 2',\n",
       " 'Basal metabolic rate | Instance 3',\n",
       " 'Trunk fat percentage | Instance 0',\n",
       " 'Trunk fat percentage | Instance 1',\n",
       " 'Trunk fat percentage | Instance 2',\n",
       " 'Trunk fat percentage | Instance 3',\n",
       " 'Arm fat percentage (left) | Instance 0',\n",
       " 'Arm fat percentage (left) | Instance 1',\n",
       " 'Arm fat percentage (left) | Instance 2',\n",
       " 'Arm fat percentage (left) | Instance 3',\n",
       " 'Arm fat percentage (right) | Instance 0',\n",
       " 'Arm fat percentage (right) | Instance 1',\n",
       " 'Arm fat percentage (right) | Instance 2',\n",
       " 'Arm fat percentage (right) | Instance 3',\n",
       " 'Leg fat percentage (left) | Instance 0',\n",
       " 'Leg fat percentage (left) | Instance 1',\n",
       " 'Leg fat percentage (left) | Instance 2',\n",
       " 'Leg fat percentage (left) | Instance 3',\n",
       " 'Leg fat percentage (right) | Instance 0',\n",
       " 'Leg fat percentage (right) | Instance 1',\n",
       " 'Leg fat percentage (right) | Instance 2',\n",
       " 'Leg fat percentage (right) | Instance 3',\n",
       " 'obesity_binary',\n",
       " 'obesity_tertiary',\n",
       " 'obesity_binary_sec',\n",
       " 'obesity_tertiary_sec',\n",
       " 'obesity_binary_third',\n",
       " 'obesity_tertiary_third',\n",
       " 'Time spent driving | Instance 0',\n",
       " 'Time spent driving | Instance 1',\n",
       " 'Time spent driving | Instance 2',\n",
       " 'Time spent driving | Instance 3',\n",
       " 'Time spent using computer | Instance 0',\n",
       " 'Time spent using computer | Instance 1',\n",
       " 'Time spent using computer | Instance 2',\n",
       " 'Time spent using computer | Instance 3',\n",
       " 'Time spent watching television (TV) | Instance 0',\n",
       " 'Time spent watching television (TV) | Instance 1',\n",
       " 'Time spent watching television (TV) | Instance 2',\n",
       " 'Time spent watching television (TV) | Instance 3',\n",
       " 'Duration of heavy DIY | Instance 0',\n",
       " 'Duration of heavy DIY | Instance 1',\n",
       " 'Duration of heavy DIY | Instance 2',\n",
       " 'Duration of heavy DIY | Instance 3',\n",
       " 'Duration of light DIY | Instance 0',\n",
       " 'Duration of light DIY | Instance 1',\n",
       " 'Duration of light DIY | Instance 2',\n",
       " 'Duration of light DIY | Instance 3',\n",
       " 'Duration of moderate activity | Instance 0',\n",
       " 'Duration of moderate activity | Instance 1',\n",
       " 'Duration of moderate activity | Instance 2',\n",
       " 'Duration of moderate activity | Instance 3',\n",
       " 'Duration of moderate physical activity (pilot) | Instance 0',\n",
       " 'Duration of other exercises | Instance 0',\n",
       " 'Duration of other exercises | Instance 1',\n",
       " 'Duration of other exercises | Instance 2',\n",
       " 'Duration of other exercises | Instance 3',\n",
       " 'Duration of strenuous sports | Instance 0',\n",
       " 'Duration of strenuous sports | Instance 1',\n",
       " 'Duration of strenuous sports | Instance 2',\n",
       " 'Duration of strenuous sports | Instance 3',\n",
       " 'Duration of vigorous activity | Instance 0',\n",
       " 'Duration of vigorous activity | Instance 1',\n",
       " 'Duration of vigorous activity | Instance 2',\n",
       " 'Duration of vigorous activity | Instance 3',\n",
       " 'Duration of vigorous physical activity (pilot) | Instance 0',\n",
       " 'Duration of walks | Instance 0',\n",
       " 'Duration of walks | Instance 1',\n",
       " 'Duration of walks | Instance 2',\n",
       " 'Duration of walks | Instance 3',\n",
       " 'Duration of walks (pilot) | Instance 0',\n",
       " 'Duration walking for pleasure | Instance 0',\n",
       " 'Duration walking for pleasure | Instance 1',\n",
       " 'Duration walking for pleasure | Instance 2',\n",
       " 'Duration walking for pleasure | Instance 3',\n",
       " 'Frequency of heavy DIY in last 4 weeks | Instance 0',\n",
       " 'Frequency of heavy DIY in last 4 weeks | Instance 1',\n",
       " 'Frequency of heavy DIY in last 4 weeks | Instance 2',\n",
       " 'Frequency of heavy DIY in last 4 weeks | Instance 3',\n",
       " 'Frequency of light DIY in last 4 weeks | Instance 0',\n",
       " 'Frequency of light DIY in last 4 weeks | Instance 1',\n",
       " 'Frequency of light DIY in last 4 weeks | Instance 2',\n",
       " 'Frequency of light DIY in last 4 weeks | Instance 3',\n",
       " 'Frequency of other exercises in last 4 weeks | Instance 0',\n",
       " 'Frequency of other exercises in last 4 weeks | Instance 1',\n",
       " 'Frequency of other exercises in last 4 weeks | Instance 2',\n",
       " 'Frequency of other exercises in last 4 weeks | Instance 3',\n",
       " 'Frequency of stair climbing in last 4 weeks | Instance 0',\n",
       " 'Frequency of stair climbing in last 4 weeks | Instance 1',\n",
       " 'Frequency of stair climbing in last 4 weeks | Instance 2',\n",
       " 'Frequency of stair climbing in last 4 weeks | Instance 3',\n",
       " 'Frequency of strenuous sports in last 4 weeks | Instance 0',\n",
       " 'Frequency of strenuous sports in last 4 weeks | Instance 1',\n",
       " 'Frequency of strenuous sports in last 4 weeks | Instance 2',\n",
       " 'Frequency of strenuous sports in last 4 weeks | Instance 3',\n",
       " 'Frequency of walking for pleasure in last 4 weeks | Instance 0',\n",
       " 'Frequency of walking for pleasure in last 4 weeks | Instance 1',\n",
       " 'Frequency of walking for pleasure in last 4 weeks | Instance 2',\n",
       " 'Frequency of walking for pleasure in last 4 weeks | Instance 3',\n",
       " 'Number of days/week of moderate physical activity 10+ minutes | Instance 0',\n",
       " 'Number of days/week of moderate physical activity 10+ minutes | Instance 1',\n",
       " 'Number of days/week of moderate physical activity 10+ minutes | Instance 2',\n",
       " 'Number of days/week of moderate physical activity 10+ minutes | Instance 3',\n",
       " 'Types of physical activity in last 4 weeks | Instance 0',\n",
       " 'Types of physical activity in last 4 weeks | Instance 1',\n",
       " 'Types of physical activity in last 4 weeks | Instance 2',\n",
       " 'Types of physical activity in last 4 weeks | Instance 3',\n",
       " 'Types of transport used (excluding work) | Instance 0',\n",
       " 'Types of transport used (excluding work) | Instance 1',\n",
       " 'Types of transport used (excluding work) | Instance 2',\n",
       " 'Types of transport used (excluding work) | Instance 3',\n",
       " 'Usual walking pace | Instance 0',\n",
       " 'Usual walking pace | Instance 1',\n",
       " 'Usual walking pace | Instance 2',\n",
       " 'Usual walking pace | Instance 3',\n",
       " 'Above moderate/vigorous recommendation | Instance 0',\n",
       " 'Above moderate/vigorous/walking recommendation | Instance 0',\n",
       " 'IPAQ activity group | Instance 0',\n",
       " 'MET minutes per week for moderate activity | Instance 0',\n",
       " 'MET minutes per week for vigorous activity | Instance 0',\n",
       " 'MET minutes per week for walking | Instance 0',\n",
       " 'Summed MET minutes per week for all activity | Instance 0',\n",
       " 'Summed days activity | Instance 0',\n",
       " 'Summed minutes activity | Instance 0',\n",
       " 'Alcohol drinker status | Instance 0',\n",
       " 'Alcohol drinker status | Instance 1',\n",
       " 'Alcohol drinker status | Instance 2',\n",
       " 'Alcohol drinker status | Instance 3',\n",
       " 'Alcohol intake frequency. | Instance 0',\n",
       " 'Alcohol intake frequency. | Instance 1',\n",
       " 'Alcohol intake frequency. | Instance 2',\n",
       " 'Alcohol intake frequency. | Instance 3',\n",
       " 'Former alcohol drinker | Instance 0',\n",
       " 'Former alcohol drinker | Instance 1',\n",
       " 'Former alcohol drinker | Instance 2',\n",
       " 'Former alcohol drinker | Instance 3',\n",
       " 'Average monthly red wine intake | Instance 0',\n",
       " 'Average monthly red wine intake | Instance 1',\n",
       " 'Average monthly red wine intake | Instance 2',\n",
       " 'Average monthly red wine intake | Instance 3',\n",
       " 'Average monthly champagne plus white wine intake | Instance 0',\n",
       " 'Average monthly champagne plus white wine intake | Instance 1',\n",
       " 'Average monthly champagne plus white wine intake | Instance 2',\n",
       " 'Average monthly champagne plus white wine intake | Instance 3',\n",
       " 'Average monthly beer plus cider intake | Instance 0',\n",
       " 'Average monthly beer plus cider intake | Instance 1',\n",
       " 'Average monthly beer plus cider intake | Instance 2',\n",
       " 'Average monthly beer plus cider intake | Instance 3',\n",
       " 'Average monthly spirits intake | Instance 0',\n",
       " 'Average monthly spirits intake | Instance 1',\n",
       " 'Average monthly spirits intake | Instance 2',\n",
       " 'Average monthly spirits intake | Instance 3',\n",
       " 'Average monthly fortified wine intake | Instance 0',\n",
       " 'Average monthly fortified wine intake | Instance 1',\n",
       " 'Average monthly fortified wine intake | Instance 2',\n",
       " 'Average monthly fortified wine intake | Instance 3',\n",
       " 'Average monthly intake of other alcoholic drinks | Instance 0',\n",
       " 'Average monthly intake of other alcoholic drinks | Instance 1',\n",
       " 'Average monthly intake of other alcoholic drinks | Instance 2',\n",
       " 'Average monthly intake of other alcoholic drinks | Instance 3',\n",
       " 'Average weekly red wine intake | Instance 0',\n",
       " 'Average weekly red wine intake | Instance 1',\n",
       " 'Average weekly red wine intake | Instance 2',\n",
       " 'Average weekly red wine intake | Instance 3',\n",
       " 'Average weekly champagne plus white wine intake | Instance 0',\n",
       " 'Average weekly champagne plus white wine intake | Instance 1',\n",
       " 'Average weekly champagne plus white wine intake | Instance 2',\n",
       " 'Average weekly champagne plus white wine intake | Instance 3',\n",
       " 'Average weekly beer plus cider intake | Instance 0',\n",
       " 'Average weekly beer plus cider intake | Instance 1',\n",
       " 'Average weekly beer plus cider intake | Instance 2',\n",
       " 'Average weekly beer plus cider intake | Instance 3',\n",
       " 'Average weekly spirits intake | Instance 0',\n",
       " 'Average weekly spirits intake | Instance 1',\n",
       " 'Average weekly spirits intake | Instance 2',\n",
       " 'Average weekly spirits intake | Instance 3',\n",
       " 'Average weekly fortified wine intake | Instance 0',\n",
       " 'Average weekly fortified wine intake | Instance 1',\n",
       " 'Average weekly fortified wine intake | Instance 2',\n",
       " 'Average weekly fortified wine intake | Instance 3',\n",
       " 'Average weekly intake of other alcoholic drinks | Instance 0',\n",
       " 'Average weekly intake of other alcoholic drinks | Instance 1',\n",
       " 'Average weekly intake of other alcoholic drinks | Instance 2',\n",
       " 'Average weekly intake of other alcoholic drinks | Instance 3',\n",
       " 'Alcohol usually taken with meals | Instance 0',\n",
       " 'Alcohol usually taken with meals | Instance 1',\n",
       " 'Alcohol usually taken with meals | Instance 2',\n",
       " 'Alcohol usually taken with meals | Instance 3',\n",
       " 'Alcohol intake versus 10 years previously | Instance 0',\n",
       " 'Alcohol intake versus 10 years previously | Instance 1',\n",
       " 'Alcohol intake versus 10 years previously | Instance 2',\n",
       " 'Alcohol intake versus 10 years previously | Instance 3',\n",
       " 'Reason for reducing amount of alcohol drunk | Instance 0',\n",
       " 'Reason for reducing amount of alcohol drunk | Instance 1',\n",
       " 'Reason for reducing amount of alcohol drunk | Instance 2',\n",
       " 'Reason for reducing amount of alcohol drunk | Instance 3',\n",
       " 'Reason for reducing amount of alcohol drunk (pilot) | Instance 0',\n",
       " 'Reason former drinker stopped drinking alcohol | Instance 0',\n",
       " 'Reason former drinker stopped drinking alcohol | Instance 1',\n",
       " 'Reason former drinker stopped drinking alcohol | Instance 2',\n",
       " 'Reason former drinker stopped drinking alcohol | Instance 3',\n",
       " 'Reason former drinker stopped drinking alcohol (pilot) | Instance 0',\n",
       " 'Ever addicted to alcohol',\n",
       " 'Ongoing addiction to alcohol',\n",
       " 'Ever physically dependent on alcohol',\n",
       " 'Frequency of drinking alcohol',\n",
       " 'Amount of alcohol drunk on a typical drinking day',\n",
       " 'Frequency of consuming six or more units of alcohol',\n",
       " 'Sleep duration | Instance 0',\n",
       " 'Sleep duration | Instance 1',\n",
       " 'Sleep duration | Instance 2',\n",
       " 'Sleep duration | Instance 3',\n",
       " 'Sleeplessness / insomnia | Instance 0',\n",
       " 'Sleeplessness / insomnia | Instance 1',\n",
       " 'Sleeplessness / insomnia | Instance 2',\n",
       " 'Sleeplessness / insomnia | Instance 3',\n",
       " 'Trouble falling or staying asleep, or sleeping too much over the last two weeks',\n",
       " 'Date of attending assessment centre | Instance 0',\n",
       " 'Date of attending assessment centre | Instance 1',\n",
       " 'Date of attending assessment centre | Instance 2',\n",
       " 'Date of attending assessment centre | Instance 3',\n",
       " 'Year of birth',\n",
       " 'Diastolic blood pressure',\n",
       " 'Systolic blood pressure',\n",
       " 'Cholesterol_lowering_medication',\n",
       " 'Insulin',\n",
       " 'Blood_pressure',\n",
       " 'Haemoglobin concentration | Instance 0',\n",
       " 'Haemoglobin concentration | Instance 1',\n",
       " 'Haemoglobin concentration | Instance 2',\n",
       " 'Albumin | Instance 0',\n",
       " 'Albumin | Instance 1',\n",
       " 'Creatinine | Instance 0',\n",
       " 'Creatinine | Instance 1',\n",
       " 'C-reactive protein | Instance 0',\n",
       " 'C-reactive protein | Instance 1',\n",
       " 'Cholesterol | Instance 0',\n",
       " 'Cholesterol | Instance 1',\n",
       " 'HDL cholesterol | Instance 0',\n",
       " 'HDL cholesterol | Instance 1',\n",
       " 'LDL direct | Instance 0',\n",
       " 'LDL direct | Instance 1',\n",
       " 'Glucose | Instance 0',\n",
       " 'Glucose | Instance 1',\n",
       " 'Triglycerides | Instance 0',\n",
       " 'Triglycerides | Instance 1',\n",
       " 'Vitamin D | Instance 0',\n",
       " 'Vitamin D | Instance 1',\n",
       " 'Glycated haemoglobin (HbA1c) | Instance 0',\n",
       " 'Glycated haemoglobin (HbA1c) | Instance 1',\n",
       " 'Glycated haemoglobin (HbA1c) assay date | Instance 0',\n",
       " 'Glycated haemoglobin (HbA1c) assay date | Instance 1',\n",
       " 'Alanine aminotransferase | Instance 0',\n",
       " 'Alanine aminotransferase | Instance 1',\n",
       " 'Alkaline phosphatase | Instance 0',\n",
       " 'Alkaline phosphatase | Instance 1',\n",
       " 'Apolipoprotein A | Instance 0',\n",
       " 'Apolipoprotein A | Instance 1',\n",
       " 'Apolipoprotein B | Instance 0',\n",
       " 'Apolipoprotein B | Instance 1',\n",
       " 'Aspartate aminotransferase | Instance 0',\n",
       " 'Aspartate aminotransferase | Instance 1',\n",
       " 'Calcium | Instance 0',\n",
       " 'Calcium | Instance 1',\n",
       " 'Direct bilirubin | Instance 0',\n",
       " 'Direct bilirubin | Instance 1',\n",
       " 'Gamma glutamyltransferase | Instance 0',\n",
       " 'Gamma glutamyltransferase | Instance 1',\n",
       " 'IGF-1 | Instance 0',\n",
       " 'IGF-1 | Instance 1',\n",
       " 'Lipoprotein A | Instance 0',\n",
       " 'Lipoprotein A | Instance 1',\n",
       " 'Rheumatoid factor | Instance 0',\n",
       " 'Rheumatoid factor | Instance 1',\n",
       " 'Phosphate | Instance 0',\n",
       " 'Phosphate | Instance 1',\n",
       " 'trigl_hdl_ratio_0',\n",
       " 'apob_apoa_ratio_0',\n",
       " 'trigl_hdl_ratio_1',\n",
       " 'apob_apoa_ratio_1',\n",
       " 'Sex',\n",
       " 'bmi_dif_0_2',\n",
       " 'std_lab',\n",
       " 'Brisk pace',\n",
       " 'None of the above',\n",
       " 'Prefer not to answer',\n",
       " 'Slow pace',\n",
       " 'Steady average pace',\n",
       " 'weight_dif_0_2',\n",
       " 'weight_std_lab',\n",
       " 'weight_difperc_0_2',\n",
       " 'weight)prec_std_lab',\n",
       " 'weight_prec_std_lab',\n",
       " 'high',\n",
       " 'low',\n",
       " 'moderate',\n",
       " 'Between 1 and 1.5 hours',\n",
       " 'Between 1.5 and 2 hours',\n",
       " 'Between 15 and 30 minutes',\n",
       " 'Between 2 and 3 hours',\n",
       " 'Between 30 minutes and 1 hour',\n",
       " 'Do not know',\n",
       " 'Less than 15 minutes',\n",
       " 'Over 3 hours',\n",
       " 'Prefer not to answer',\n",
       " 'Daily or almost daily',\n",
       " 'Never',\n",
       " 'Once or twice a week',\n",
       " 'One to three times a month',\n",
       " 'Prefer not to answer',\n",
       " 'Special occasions only',\n",
       " 'Three or four times a week']"
      ]
     },
     "execution_count": 363,
     "metadata": {},
     "output_type": "execute_result"
    }
   ],
   "source": [
    "df.columns.tolist()"
   ]
  },
  {
   "cell_type": "code",
   "execution_count": null,
   "id": "f4a48fe2-663f-4021-8da5-3d455945731a",
   "metadata": {},
   "outputs": [],
   "source": []
  }
 ],
 "metadata": {
  "kernelspec": {
   "display_name": "Python 3 (ipykernel)",
   "language": "python",
   "name": "python3"
  },
  "language_info": {
   "codemirror_mode": {
    "name": "ipython",
    "version": 3
   },
   "file_extension": ".py",
   "mimetype": "text/x-python",
   "name": "python",
   "nbconvert_exporter": "python",
   "pygments_lexer": "ipython3",
   "version": "3.9.5"
  }
 },
 "nbformat": 4,
 "nbformat_minor": 5
}
